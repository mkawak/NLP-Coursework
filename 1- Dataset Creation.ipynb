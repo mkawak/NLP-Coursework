{
 "cells": [
  {
   "cell_type": "markdown",
   "source": [
    "# Dataset Creation"
   ],
   "metadata": {
    "collapsed": false
   }
  },
  {
   "cell_type": "code",
   "outputs": [
    {
     "name": "stdout",
     "output_type": "stream",
     "text": [
      "hate: [('fear', 0.2), ('anger', 0.2), ('negative', 0.2), ('sadness', 0.2), ('disgust', 0.2)]\n",
      "--------------------\n",
      "love: [('positive', 0.5), ('joy', 0.5)]\n",
      "--------------------\n",
      "worst: [('fear', 0.0), ('anger', 0.0), ('anticip', 0.0), ('trust', 0.0), ('surprise', 0.0), ('positive', 0.0), ('negative', 0.0), ('sadness', 0.0), ('disgust', 0.0), ('joy', 0.0)]\n",
      "--------------------\n",
      "best: [('fear', 0.0), ('anger', 0.0), ('anticip', 0.0), ('trust', 0.0), ('surprise', 0.0), ('positive', 0.0), ('negative', 0.0), ('sadness', 0.0), ('disgust', 0.0), ('joy', 0.0)]\n",
      "--------------------\n"
     ]
    },
    {
     "name": "stderr",
     "output_type": "stream",
     "text": [
      "[nltk_data] Downloading package punkt to /Users/majd/nltk_data...\n",
      "[nltk_data]   Package punkt is already up-to-date!\n"
     ]
    },
    {
     "data": {
      "text/plain": "'\\nfor i in range(len(text)):\\n    print(NRCLex(text[i]))\\n\\ntext = \"I hate to visit historical places\"\\nemotion = NRCLex(text)\\nprint(emotion.top_emotions)\\n'"
     },
     "execution_count": 22,
     "metadata": {},
     "output_type": "execute_result"
    }
   ],
   "source": [
    "import nltk\n",
    "nltk.download('punkt')\n",
    "from nrclex import NRCLex\n",
    "\n",
    "\"\"\"\n",
    "text1 = \"Congratulation I am the president\"\n",
    "\n",
    "emotion = NRCLex(text1)\n",
    "\n",
    "print(emotion.top_emotions)\n",
    "\"\"\"\n",
    "\n",
    "text = ['hate', 'love','worst','best']\n",
    "for i in range(len (text)):\n",
    "    emotion = NRCLex (text[i])\n",
    "    print (f\"{text[i]}: {emotion.top_emotions}\")\n",
    "    print(\"--------------------\")\n",
    "\n",
    "\"\"\"\n",
    "for i in range(len(text)):\n",
    "    print(NRCLex(text[i]))\n",
    "\n",
    "text = \"I hate to visit historical places\"\n",
    "emotion = NRCLex(text)\n",
    "print(emotion.top_emotions)\n",
    "\"\"\"\n"
   ],
   "metadata": {
    "collapsed": true,
    "ExecuteTime": {
     "end_time": "2023-12-22T12:29:23.459574Z",
     "start_time": "2023-12-22T12:29:23.455573Z"
    }
   },
   "execution_count": 22
  },
  {
   "cell_type": "code",
   "execution_count": 30,
   "outputs": [
    {
     "name": "stdout",
     "output_type": "stream",
     "text": [
      "      word   emotion  score\n",
      "0      joy  positive      1\n",
      "1  sadness  negative      1\n",
      "2    happy  positive      1\n",
      "3    anger  negative      1\n",
      "4  delight  positive      1\n",
      "<class 'pandas.core.frame.DataFrame'>\n",
      "RangeIndex: 10 entries, 0 to 9\n",
      "Data columns (total 3 columns):\n",
      " #   Column   Non-Null Count  Dtype \n",
      "---  ------   --------------  ----- \n",
      " 0   word     10 non-null     object\n",
      " 1   emotion  10 non-null     object\n",
      " 2   score    10 non-null     int64 \n",
      "dtypes: int64(1), object(2)\n",
      "memory usage: 368.0+ bytes\n",
      "None\n",
      "Total positive score: 1\n",
      "Total negative score: 0\n"
     ]
    }
   ],
   "source": [
    "import nltk\n",
    "import pandas as pd\n",
    "\n",
    "# Assume you have EmoLex data in a CSV file called 'emolex.csv' with columns: word, emotion, score\n",
    "# Load EmoLex data into a DataFrame\n",
    "emolex_df = pd.read_csv('Files/emolex.csv')\n",
    "\n",
    "# Optional: You can inspect the DataFrame to understand its structure and contents\n",
    "print(emolex_df.head())  # Print the first few rows of the DataFrame\n",
    "print(emolex_df.info())  # Print information about the DataFrame, such as column names and data types\n",
    "\n",
    "# Example of using the EmoLex DataFrame to analyze text data\n",
    "text = \"I am feeling happy and delightful today.\"\n",
    "words = text.split()  # Split the text into individual words\n",
    "total_positive_score = 0\n",
    "total_negative_score = 0\n",
    "\n",
    "# Loop through each word in the text and lookup its emotion and score in the EmoLex DataFrame\n",
    "for word in words:\n",
    "    word_df = emolex_df[emolex_df['word'] == word]  # Filter the DataFrame to get rows where word matches\n",
    "    if not word_df.empty:\n",
    "        word_emotion = word_df.iloc[0]['emotion']  # Get the emotion of the word\n",
    "        word_score = word_df.iloc[0]['score']  # Get the score of the word\n",
    "        if word_emotion == 'positive':\n",
    "            total_positive_score += word_score\n",
    "        elif word_emotion == 'negative':\n",
    "            total_negative_score += word_score\n",
    "\n",
    "print(\"Total positive score:\", total_positive_score)\n",
    "print(\"Total negative score:\", total_negative_score)\n"
   ],
   "metadata": {
    "collapsed": false,
    "ExecuteTime": {
     "end_time": "2023-12-22T12:44:16.714362Z",
     "start_time": "2023-12-22T12:44:16.703433Z"
    }
   }
  },
  {
   "cell_type": "code",
   "execution_count": 31,
   "outputs": [
    {
     "name": "stdout",
     "output_type": "stream",
     "text": [
      "  % Total    % Received % Xferd  Average Speed   Time    Time     Time  Current\r\n",
      "                                 Dload  Upload   Total   Spent    Left  Speed\r\n",
      "100 2520k  100 2520k    0     0  2143k      0  0:00:01  0:00:01 --:--:-- 2150k\r\n"
     ]
    }
   ],
   "source": [
    "!curl -o Files/NRC-emotion-lexicon-wordlevel-alphabetized-v0.92.txt https://nyc3.digitaloceanspaces.com/ml-files-distro/v1/upshot-trump-emolex/data/NRC-emotion-lexicon-wordlevel-alphabetized-v0.92.txt"
   ],
   "metadata": {
    "collapsed": false,
    "ExecuteTime": {
     "end_time": "2023-12-22T12:46:29.749378Z",
     "start_time": "2023-12-22T12:46:28.427129Z"
    }
   }
  }
 ],
 "metadata": {
  "kernelspec": {
   "display_name": "Python 3",
   "language": "python",
   "name": "python3"
  },
  "language_info": {
   "codemirror_mode": {
    "name": "ipython",
    "version": 2
   },
   "file_extension": ".py",
   "mimetype": "text/x-python",
   "name": "python",
   "nbconvert_exporter": "python",
   "pygments_lexer": "ipython2",
   "version": "2.7.6"
  }
 },
 "nbformat": 4,
 "nbformat_minor": 0
}
