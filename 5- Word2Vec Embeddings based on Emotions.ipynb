{
 "nbformat": 4,
 "nbformat_minor": 0,
 "metadata": {
  "colab": {
   "provenance": []
  },
  "kernelspec": {
   "name": "python3",
   "language": "python",
   "display_name": "Python 3 (ipykernel)"
  },
  "language_info": {
   "name": "python"
  }
 },
 "cells": [
  {
   "cell_type": "markdown",
   "source": [
    "# Word2Vec Embeddings based on Emotions"
   ],
   "metadata": {
    "collapsed": false
   }
  },
  {
   "cell_type": "code",
   "outputs": [],
   "source": [
    "import pandas as pd\n",
    "import math\n",
    "import random\n",
    "import numpy as np\n",
    "import re\n",
    "import nltk\n",
    "from nltk import FreqDist\n",
    "import matplotlib.pyplot as plt\n",
    "from sklearn.manifold import TSNE"
   ],
   "metadata": {
    "colab": {
     "base_uri": "https://localhost:8080/"
    },
    "id": "yz63TrhiEl9J",
    "outputId": "7185bb95-fba4-4322-fe75-eff5535604e0",
    "ExecuteTime": {
     "end_time": "2023-12-22T13:11:43.653759Z",
     "start_time": "2023-12-22T13:11:42.799945Z"
    }
   },
   "execution_count": 1
  },
  {
   "cell_type": "code",
   "source": [
    "# Preprocess the data\n",
    "\n",
    "#Read the Excel sheet into a pandas DataFrame\n",
    "df = pd.read_excel('Files/data.xlsx')\n",
    "\n",
    "# Define the emotions to count\n",
    "emotions = ['Sadness', 'Joy', 'Fear', 'Anger', 'Surprise', 'Disgust']\n",
    "\n",
    "# Define the regular expression pattern for tokenization\n",
    "pattern = r\"[^\\d\\W]+(?:['’][^\\d\\W]+)?|[^\\d\\W]+['’]\\w*\"\n",
    "\n",
    "# Store Lexicons and Sentences tokenized at each index\n",
    "emotions_lexicon = {emotion: [] for emotion in emotions}\n",
    "emotions_sentences = {emotion: [] for emotion in emotions}\n",
    "\n",
    "# Loop through each emotion\n",
    "for i, col_name in enumerate(df.columns[1::2]):\n",
    "    # Extract the emotion name from the column name\n",
    "    emotion = col_name.replace(' Sentences', '')\n",
    "    # Get the index of the \"Sentences\" column for this emotion\n",
    "    sentences_col_idx = df.columns.get_loc(col_name)\n",
    "    # Get emotion lexicon from the \"Lexicon\" column\n",
    "    lexicon = df.iloc[0:, sentences_col_idx-1].tolist()\n",
    "    # Get the sentences from the \"Sentences\" column\n",
    "    sentences = df.iloc[0:, sentences_col_idx].tolist()\n",
    "    # Create an empty list to store the lexicon\n",
    "    lex_tokens = []\n",
    "    # Create an empty list to store the sentences tokens\n",
    "    sentences_tokens = []\n",
    "    # Loop through each lexicon col\n",
    "    for lexeme in lexicon:\n",
    "        # Check if the lexicon is a valid string\n",
    "        if isinstance(lexeme, str):\n",
    "            # Tokenize the words in each row \"lexeme\" using regex and Append to array\n",
    "            lex_tokens.extend(re.findall(pattern, lexeme))\n",
    "    # Set to lowercase and remove duplicates lexicon\n",
    "    lex_tokens = list(set(token.lower() for token in lex_tokens))\n",
    "    # Loop through each sentence col\n",
    "    for sentence in sentences:\n",
    "        # Check if the sentence is a valid string\n",
    "        if isinstance(sentence, str):\n",
    "          # Tokenize the words in each row \"sentence\" using regex and Append to array\n",
    "          sentences_tokens.append(re.findall(pattern, sentence))\n",
    "\n",
    "    # If the emotion contains more than one emotion, split it and add the words to the respective index arrays\n",
    "    if '+' in emotion:\n",
    "        sub_emotions = emotion.split(' + ')\n",
    "        for sub_emotion in sub_emotions:\n",
    "            emotions_lexicon[sub_emotion].extend(lex_tokens)\n",
    "            emotions_sentences[sub_emotion].extend(sentences_tokens)\n",
    "    else:\n",
    "        emotions_lexicon[emotion].extend(lex_tokens)\n",
    "        emotions_sentences[emotion].extend(sentences_tokens)\n",
    "\n",
    "# Remove duplicates from \"Sadness\" and \"Joy\" lexicon\n",
    "emotions_lexicon['Sadness'] = list(set(emotions_lexicon['Sadness']))\n",
    "emotions_lexicon['Sadness'].sort()\n",
    "emotions_lexicon['Joy'] = list(set(emotions_lexicon['Joy']))\n",
    "emotions_lexicon['Joy'].sort()\n",
    "\n",
    "\n",
    "# Total sentences\n",
    "total_sentences = emotions_sentences['Sadness'] + emotions_sentences['Joy']"
   ],
   "metadata": {
    "id": "kMPgDowt6TaG",
    "ExecuteTime": {
     "end_time": "2023-12-22T13:11:43.764776Z",
     "start_time": "2023-12-22T13:11:43.657235Z"
    }
   },
   "execution_count": 2,
   "outputs": []
  },
  {
   "cell_type": "code",
   "source": [
    "# All words combined\n",
    "combined_tokens_original = []\n",
    "for sentence in emotions_sentences['Sadness']:\n",
    "    combined_tokens_original.extend(sentence)\n",
    "\n",
    "for sentence in emotions_sentences['Joy']:\n",
    "    combined_tokens_original.extend(sentence)\n",
    "\n",
    "# Convert all words to lowercase\n",
    "combined_tokens_original = [token.lower() for token in combined_tokens_original]\n",
    "\n",
    "# Sort all tokens\n",
    "# Each word index represent unique integer\n",
    "combined_tokens = sorted(set(combined_tokens_original))\n",
    "vocabulary_count = len(combined_tokens)\n"
   ],
   "metadata": {
    "id": "jnMODGMu6l7f",
    "ExecuteTime": {
     "end_time": "2023-12-22T13:11:43.769400Z",
     "start_time": "2023-12-22T13:11:43.766717Z"
    }
   },
   "execution_count": 3,
   "outputs": []
  },
  {
   "cell_type": "code",
   "source": [
    "weights = [1, 1, 1, 1, 1]\n",
    "\n",
    "# Matrix W\n",
    "matrix = [weights for word in combined_tokens]\n",
    "\n",
    "# Matrix C\n",
    "matrix.extend(matrix)\n",
    "\n",
    "print(\"vocabulary_count= \", vocabulary_count)"
   ],
   "metadata": {
    "colab": {
     "base_uri": "https://localhost:8080/"
    },
    "id": "XIDSDlyi7Fnd",
    "outputId": "ae064767-8bd0-4bdf-a00c-8b4b8e63f756",
    "ExecuteTime": {
     "end_time": "2023-12-22T13:11:43.772248Z",
     "start_time": "2023-12-22T13:11:43.769171Z"
    }
   },
   "execution_count": 4,
   "outputs": [
    {
     "name": "stdout",
     "output_type": "stream",
     "text": [
      "vocabulary_count=  1645\n"
     ]
    }
   ]
  },
  {
   "cell_type": "code",
   "source": [
    "# Get all c_pos for all tokens\n",
    "c_pos = []\n",
    "\n",
    "for target_word in combined_tokens:\n",
    "    target_word_context = []\n",
    "    for sentence in total_sentences:\n",
    "        if target_word in sentence:\n",
    "            index = sentence.index(target_word)\n",
    "            target_word_context = (sentence[max(index - 4, 0):index] + sentence[index + 1:min(index + 5, len(sentence))])[:4]\n",
    "            target_word_context_lower = [token.lower() for token in target_word_context]\n",
    "            #non_neighboring_words = [word for word in sentence if word not in neighboring_words and word != target_word]\n",
    "            break\n",
    "    c_pos.append(target_word_context_lower)\n",
    "\n",
    "# Compute word frequency with weight 0.75\n",
    "def compute_word_probabilities(words):\n",
    "    frequency = FreqDist(words)\n",
    "    total_count = len(words)\n",
    "    probabilities = {word: pow(freq, 0.75) / pow(total_count, 0.75) for word, freq in frequency.items()}\n",
    "    return probabilities\n",
    "\n",
    "\n",
    "# Tokens with p^0.75\n",
    "combined_tokens_with_p_075 = compute_word_probabilities(combined_tokens_original)\n",
    "\n",
    "# Function to choose random words for c_neg\n",
    "def choose_random_tokens(token_array_list, num_tokens, excluded_tokens=[]):\n",
    "    token_array = list(token_array_list)\n",
    "    random_tokens = []\n",
    "    i = num_tokens - 1\n",
    "    while i >= 0:\n",
    "      random_word = random.choice(token_array)\n",
    "      if random_word not in excluded_tokens:\n",
    "        random_tokens.append(random_word)\n",
    "        i -= 1\n",
    "    return random_tokens\n",
    "\n",
    "# To print and check\n",
    "result = []\n",
    "for i, token in enumerate(combined_tokens[:10]):\n",
    "  exclude_words = [token, c_pos[i]]\n",
    "  result.append({'token': token, 'c_pos': c_pos[i], 'c_negs': choose_random_tokens(combined_tokens_with_p_075, 5, exclude_words)})\n",
    "\n",
    "print(result)"
   ],
   "metadata": {
    "colab": {
     "base_uri": "https://localhost:8080/"
    },
    "id": "x20cbsFf7g_7",
    "outputId": "2b1a8cc8-07f7-43aa-ec32-a11789a66ab5",
    "ExecuteTime": {
     "end_time": "2023-12-22T13:11:43.810550Z",
     "start_time": "2023-12-22T13:11:43.807971Z"
    }
   },
   "execution_count": 5,
   "outputs": [
    {
     "name": "stdout",
     "output_type": "stream",
     "text": [
      "[{'token': 'a', 'c_pos': ['the', \"child's\", 'abduction', 'left'], 'c_negs': ['library', 'couldn’t', 'back', 'chatgpt', 'deceased']}, {'token': 'abandon', 'c_pos': ['she', 'decided', 'to', 'her'], 'c_negs': ['criminal', 'horde', 'hopeless', 'twirl', 'demise']}, {'token': 'abandoned', 'c_pos': ['the', 'child', 'looked', 'up'], 'c_negs': ['mistakes', 'together', 'who', 'favorite', 'position']}, {'token': 'abandonment', 'c_pos': ['the', 'she', 'had', 'went'], 'c_negs': ['contractors', 'mike', 'laughter', 'vampire', 'kitchen']}, {'token': 'abduct', 'c_pos': ['zealous', 'gang', 'lord', 'would'], 'c_negs': ['traumatic', 'fond', 'wished', 'running', 'occasionally']}, {'token': 'abducted', 'c_pos': ['when', 'i', 'see', 'and'], 'c_negs': ['creating', 'revealed', 'responded', 'special', 'smiles']}, {'token': 'abduction', 'c_pos': ['news', 'of', 'the', \"child's\"], 'c_negs': ['days', 'never', 'he', 'herself', 'excellent']}, {'token': 'abhor', 'c_pos': ['often', 'praises', 'those', 'who'], 'c_negs': ['strong', 'passionate', 'joke', 'yearning', 'lovely']}, {'token': 'abhorrent', 'c_pos': ['the', 'act', 'is', 'so'], 'c_negs': ['passed', 'too', 'owner', 'true', 'reveling']}, {'token': 'able', 'c_pos': ['i', 'will', 'never', 'be'], 'c_negs': ['bonded', 'joke', 'happened', 'call', 'signify']}]\n"
     ]
    }
   ]
  },
  {
   "cell_type": "code",
   "source": [
    "def sigmoid(x):\n",
    "    return 1 / (1 + np.exp(-x))\n",
    "\n",
    "def compute_loss(w, c_pos, c_negs):\n",
    "    loss = -1 * np.array((np.log(sigmoid(np.dot(np.array(c_pos), np.array(w)))) + sum(np.log(sigmoid(np.dot((-1) * np.array(c_neg_j), np.array(w)))) for c_neg_j in c_negs)))\n",
    "    return loss\n",
    "\n",
    "def c_pos_loss(c_pos, w):\n",
    "  return (sigmoid(np.dot(np.array(c_pos), np.array(w))) - 1) * np.array(w)\n",
    "\n",
    "def c_neg_loss(c_neg, w):\n",
    "  return sigmoid(np.dot(np.array(c_neg), np.array(w))) * np.array(w)\n",
    "\n",
    "def w_loss(w, c_pos, c_negs):\n",
    "  return (sigmoid(np.dot(np.array(c_pos), np.array(w))) - 1) * np.array(c_pos) + sum(sigmoid(np.dot(np.array(c_neg), np.array(w))) * np.array(c_neg) for c_neg in c_negs)\n"
   ],
   "metadata": {
    "id": "TRf-I6f39ONf",
    "ExecuteTime": {
     "end_time": "2023-12-22T13:11:43.812954Z",
     "start_time": "2023-12-22T13:11:43.811417Z"
    }
   },
   "execution_count": 6,
   "outputs": []
  },
  {
   "cell_type": "code",
   "source": [
    "def compute_stochastic_gradient_descent(matrix_passed, learning_rate, iterations_num):\n",
    "    # Total loss\n",
    "    total_loss = float('inf')\n",
    "    for i in range(iterations_num):\n",
    "      for word_index, word in enumerate(matrix_passed[:vocabulary_count]):\n",
    "\n",
    "        # Compute c_pos\n",
    "        c_pos_arr_tokens = c_pos[word_index]\n",
    "        c_pos_word = random.choice(c_pos_arr_tokens)\n",
    "        c_pos_vector = matrix_passed[combined_tokens.index(c_pos_word) + vocabulary_count]\n",
    "        c_pos_loss_vector = c_pos_loss(c_pos_vector, word)\n",
    "        c_pos_gradient = np.array(c_pos_vector) - (learning_rate * (c_pos_loss_vector))\n",
    "        matrix_passed[combined_tokens.index(c_pos_word) + vocabulary_count] = c_pos_gradient \n",
    "\n",
    "        # Compute c_neg\n",
    "        c_neg_vectors = []\n",
    "        c_neg_gradients = []\n",
    "        exclude_words = [word,c_pos_word]\n",
    "        c_neg_word_tokens = choose_random_tokens(combined_tokens_with_p_075, 5, exclude_words)\n",
    "        for c_neg_word in c_neg_word_tokens:\n",
    "          c_neg_vector = matrix_passed[combined_tokens.index(c_neg_word) + vocabulary_count]\n",
    "          c_neg_vectors.append(c_neg_vector)\n",
    "          c_neg_loss_vector = c_neg_loss(c_neg_vector, word)\n",
    "          c_neg_gradient = np.array(c_neg_vector) - (learning_rate * (c_pos_loss_vector))\n",
    "          matrix_passed[combined_tokens.index(c_neg_word) + vocabulary_count] = c_neg_gradient\n",
    "          c_neg_gradients.append(c_neg_gradient)\n",
    "\n",
    "        # Update the weights\n",
    "        word = np.array(word) - (learning_rate * w_loss(word, c_pos_vector, c_neg_vectors))\n",
    "        matrix_passed[word_index] = word\n",
    "        # Compute loss for each word\n",
    "        total_loss = min(compute_loss(word, c_pos_vector, c_neg_vectors), total_loss)\n",
    "\n",
    "    return matrix_passed, total_loss\n",
    "\n",
    "# # Number of iterations\n",
    "iterations_num = 20\n",
    "# Learning rates\n",
    "learning_rates = [0.00001, 0.0001, 0.001, 0.01, 0.1]\n",
    "\n",
    "lowest_loss = float('inf')\n",
    "best_learning_rate = None\n",
    "learning_rate_losses = []\n",
    "\n",
    "matrix_saved = None\n",
    "# Iterate through learning rates\n",
    "for learning_rate in learning_rates:\n",
    "    matrix_to_pass = matrix\n",
    "    # Perform stochastic gradient descent and compute loss\n",
    "    matrix_to_pass, loss = compute_stochastic_gradient_descent(matrix_to_pass, learning_rate, iterations_num)\n",
    "    print(\"done\")\n",
    "    # Update the lowest loss and corresponding learning rate if the current loss is lower\n",
    "    if loss < lowest_loss:\n",
    "        lowest_loss = loss\n",
    "        matrix_saved = matrix_to_pass\n",
    "        best_learning_rate = learning_rate\n",
    "    # Append the learning rate and validation loss to the list\n",
    "    learning_rate_losses.append((learning_rate, loss))\n",
    "\n",
    "print(\"1. Best Learning Rate:\", best_learning_rate)\n",
    "print(\"2. Lowest Loss:\", lowest_loss,  \" for learning rate:\", best_learning_rate)\n",
    "print(\"3. List of all Learning Rates and Losses:\")\n",
    "for rate, loss in learning_rate_losses:\n",
    "    print(\"   Learning Rate: \" + str(\"{:.5f}\".format(rate)) + \" Loss: \" + str(loss))"
   ],
   "metadata": {
    "colab": {
     "base_uri": "https://localhost:8080/"
    },
    "id": "Ey-m2fBb9YWp",
    "outputId": "c5c6a7c0-09af-4df7-fb8a-bab19e1ec5be",
    "ExecuteTime": {
     "end_time": "2023-12-22T13:12:05.780207Z",
     "start_time": "2023-12-22T13:11:43.816369Z"
    }
   },
   "execution_count": 7,
   "outputs": [
    {
     "name": "stderr",
     "output_type": "stream",
     "text": [
      "/var/folders/39/k4d5l8nd39sdsdk39bjwbdj80000gn/T/ipykernel_30037/2272847593.py:33: FutureWarning: elementwise comparison failed; returning scalar instead, but in the future will perform elementwise comparison\n",
      "  if random_word not in excluded_tokens:\n"
     ]
    },
    {
     "name": "stdout",
     "output_type": "stream",
     "text": [
      "done\n",
      "done\n",
      "done\n",
      "done\n",
      "done\n",
      "1. Best Learning Rate: 0.1\n",
      "2. Lowest Loss: 0.6401463435734172  for learning rate: 0.1\n",
      "3. List of all Learning Rates and Losses:\n",
      "   Learning Rate: 0.00001 Loss: 25.015833033964906\n",
      "   Learning Rate: 0.00010 Loss: 24.771427962535288\n",
      "   Learning Rate: 0.00100 Loss: 22.339560229781057\n",
      "   Learning Rate: 0.01000 Loss: 4.6369716949236635\n",
      "   Learning Rate: 0.10000 Loss: 0.6401463435734172\n"
     ]
    }
   ]
  },
  {
   "cell_type": "code",
   "source": [
    "words_to_plot = [\"happy\", \"happily\", \"delighted\", \"rekindle\", \"laughed\", \"joy\", \"wrong\", \"lonely\", \"dying\", \"agony\", \"suffering\", \"weeps\", \"weeping\"]\n",
    "\n",
    "# Adding matrix W to C\n",
    "for index, row in enumerate(matrix_saved[:vocabulary_count]):\n",
    "    row += matrix_saved[index + vocabulary_count]\n",
    "\n",
    "selected_rows = []\n",
    "for word in words_to_plot:\n",
    "    selected_rows.append(matrix_saved[combined_tokens.index(word)])\n",
    "\n",
    "tsne = TSNE(n_components=2, perplexity=5)\n",
    "embedded_vectors = tsne.fit_transform(np.array(selected_rows))\n",
    "\n",
    "plt.scatter(embedded_vectors[:, 0], embedded_vectors[:, 1])\n",
    "\n",
    "for i, word in enumerate(words_to_plot):\n",
    "    plt.text(embedded_vectors[i, 0], embedded_vectors[i, 1], word)\n",
    "\n",
    "plt.show()"
   ],
   "metadata": {
    "colab": {
     "base_uri": "https://localhost:8080/",
     "height": 430
    },
    "id": "B-pRZ6ps9dkb",
    "outputId": "9c8bddc2-5f81-4793-b060-5e68b7886711",
    "ExecuteTime": {
     "end_time": "2023-12-22T13:12:06.288119Z",
     "start_time": "2023-12-22T13:12:05.785535Z"
    }
   },
   "execution_count": 8,
   "outputs": [
    {
     "data": {
      "text/plain": "<Figure size 640x480 with 1 Axes>",
      "image/png": "[encoded data removed]"
     },
     "metadata": {},
     "output_type": "display_data"
    }
   ]
  }
 ]
}
